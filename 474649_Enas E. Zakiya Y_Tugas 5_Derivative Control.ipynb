{
  "nbformat": 4,
  "nbformat_minor": 0,
  "metadata": {
    "colab": {
      "provenance": [],
      "authorship_tag": "ABX9TyN2Xb45vsu9XiYG27nMRj8+",
      "include_colab_link": true
    },
    "kernelspec": {
      "name": "python3",
      "display_name": "Python 3"
    },
    "language_info": {
      "name": "python"
    }
  },
  "cells": [
    {
      "cell_type": "markdown",
      "metadata": {
        "id": "view-in-github",
        "colab_type": "text"
      },
      "source": [
        "<a href=\"https://colab.research.google.com/github/EnasZakiya17/Sistem-Kendali-2022/blob/main/474649_Enas%20E.%20Zakiya%20Y_Tugas%205_Derivative%20Control.ipynb\" target=\"_parent\"><img src=\"https://colab.research.google.com/assets/colab-badge.svg\" alt=\"Open In Colab\"/></a>"
      ]
    },
    {
      "cell_type": "markdown",
      "source": [
        "Nama  : Enas Erliana Zakiya Yudhana\n",
        "NIM   : 21/474649/PA/20498\n",
        "Tugas : Kendali Derivative"
      ],
      "metadata": {
        "id": "9n9BoA3GvjlU"
      }
    },
    {
      "cell_type": "code",
      "execution_count": 1,
      "metadata": {
        "id": "XQP5pa60u_vE"
      },
      "outputs": [],
      "source": [
        "# Install module\n",
        "%pip install slycot\n",
        "%pip install control"
      ]
    },
    {
      "cell_type": "code",
      "source": [
        "# import module\n",
        "import numpy as np\n",
        "import matplotlib.pyplot as plt\n",
        "import control.matlab as matlab\n",
        "from ipywidgets import interact"
      ],
      "metadata": {
        "id": "v9vYax4xvir_"
      },
      "execution_count": null,
      "outputs": []
    },
    {
      "cell_type": "code",
      "source": [
        "# fungsi menampilkan hasil second order\n",
        "def secondOrderWithIntegral(T, Kp = 1, Kd = 0):\n",
        "    # definisi plot\n",
        "    fig, (step, impulse, ramp) = plt.subplots(1, 3, figsize=(16, 8))\n",
        "\n",
        "    # definisi fungsi step response\n",
        "    s = matlab.tf('s')\n",
        "    # num = np.array([1])\n",
        "    # den = np.array([3,2])\n",
        "    num = np.array([1])\n",
        "    den = np.array([T, T/16, 1])\n",
        "    Gs = matlab.tf(num, den)\n",
        "    if Kd == 0:\n",
        "        G = Gs\n",
        "    else:\n",
        "        Gc = matlab.tf([Kd, Kp], 1)\n",
        "        G = matlab.feedback(Gs*Gc, 1)\n",
        "    # transfer function\n",
        "    print(\"transfer function: \",G )\n",
        "\n",
        "    # step response\n",
        "    step_out, T = matlab.step(G)\n",
        "    step.plot(T, step_out, label = 'Step')\n",
        "    step.set_title('Step Response')\n",
        "    step.set_xlabel('Time (seconds)')\n",
        "    step.set_ylabel('Amplitude')\n",
        "    step.grid()\n",
        "    step.legend()\n",
        "\n",
        "    # ramp response\n",
        "    ramp_out, T = matlab.step(G/s)\n",
        "    ramp.plot(np.linspace(T[0], T[len(T)-1]), np.linspace(T[0], T[len(T)-1]), label = 'ideal')\n",
        "    ramp.plot(T, ramp_out, label = 'Ramp')\n",
        "    ramp.set_title('Ramp Response')\n",
        "    ramp.set_xlabel('Time (seconds)')\n",
        "    ramp.set_ylabel('Amplitude')\n",
        "    ramp.grid()\n",
        "    ramp.legend()\n",
        "\n",
        "    # impulse response\n",
        "    impulse_out, T = matlab.impulse(G)\n",
        "    impulse.plot(T, impulse_out, label = 'Impulse')\n",
        "    impulse.set_title('Impulse Response')\n",
        "    impulse.set_xlabel('Time (seconds)')\n",
        "    impulse.set_ylabel('Amplitude')\n",
        "    impulse.grid()\n",
        "    impulse.legend()\n",
        "\n",
        "    # menampilkan plot\n",
        "    plt.show()\n",
        "\n",
        "    # menampilkan hasil\n",
        "    stepInfo = matlab.stepinfo(G)\n",
        "    step_out, T = matlab.step(5*G)\n",
        "    print('Rise Time: ', stepInfo['RiseTime'])\n",
        "    print('Settling Time: ', stepInfo['SettlingTime'])\n",
        "    print('Overshoot: ', stepInfo['Overshoot'])\n",
        "    print('Steady-state Error', np.abs(5 - step_out[len(step_out) - 1]))\n",
        "\n",
        "print(\"Ok\")"
      ],
      "metadata": {
        "id": "Y29Hsmynvyty"
      },
      "execution_count": null,
      "outputs": []
    },
    {
      "cell_type": "code",
      "source": [
        "# menampilkan second order Kp = 2\n",
        "interact(secondOrderWithIntegral, T = (1.0, 10.0, 0.1), Kp = (1, 10, 1), Kd = (0, 10, 1))"
      ],
      "metadata": {
        "id": "r_tumcW2v25x"
      },
      "execution_count": null,
      "outputs": []
    }
  ]
}