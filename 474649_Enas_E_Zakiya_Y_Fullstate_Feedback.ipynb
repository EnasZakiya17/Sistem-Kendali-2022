{
  "nbformat": 4,
  "nbformat_minor": 0,
  "metadata": {
    "colab": {
      "provenance": [],
      "authorship_tag": "ABX9TyMcgCmk+T/1JWUs1XDcJc29",
      "include_colab_link": true
    },
    "kernelspec": {
      "name": "python3",
      "display_name": "Python 3"
    },
    "language_info": {
      "name": "python"
    }
  },
  "cells": [
    {
      "cell_type": "markdown",
      "metadata": {
        "id": "view-in-github",
        "colab_type": "text"
      },
      "source": [
        "<a href=\"https://colab.research.google.com/github/EnasZakiya17/Sistem-Kendali-2022/blob/main/474649_Enas_E_Zakiya_Y_Fullstate_Feedback.ipynb\" target=\"_parent\"><img src=\"https://colab.research.google.com/assets/colab-badge.svg\" alt=\"Open In Colab\"/></a>"
      ]
    },
    {
      "cell_type": "markdown",
      "source": [
        "# TUGAS FULLSTATE FEEDBACK\n",
        "## Nama : Enas Erliana Zakiya Yudhana\n",
        "## NIM : 21/474649/PA/20498"
      ],
      "metadata": {
        "id": "YPuUggfTILsG"
      }
    },
    {
      "cell_type": "markdown",
      "source": [
        "![image.png](attachment:image.png)"
      ],
      "metadata": {
        "id": "9emhsyJcKYUf"
      }
    },
    {
      "cell_type": "code",
      "source": [
        "!pip install control"
      ],
      "metadata": {
        "colab": {
          "base_uri": "https://localhost:8080/"
        },
        "id": "QEtvDxn1Isu3",
        "outputId": "9323e1d1-d5fc-4f6f-b1b0-d3b702ef3c23"
      },
      "execution_count": 16,
      "outputs": [
        {
          "output_type": "stream",
          "name": "stdout",
          "text": [
            "Looking in indexes: https://pypi.org/simple, https://us-python.pkg.dev/colab-wheels/public/simple/\n",
            "Requirement already satisfied: control in /usr/local/lib/python3.7/dist-packages (0.9.2)\n",
            "Requirement already satisfied: numpy in /usr/local/lib/python3.7/dist-packages (from control) (1.21.6)\n",
            "Requirement already satisfied: matplotlib in /usr/local/lib/python3.7/dist-packages (from control) (3.2.2)\n",
            "Requirement already satisfied: scipy in /usr/local/lib/python3.7/dist-packages (from control) (1.7.3)\n",
            "Requirement already satisfied: pyparsing!=2.0.4,!=2.1.2,!=2.1.6,>=2.0.1 in /usr/local/lib/python3.7/dist-packages (from matplotlib->control) (3.0.9)\n",
            "Requirement already satisfied: kiwisolver>=1.0.1 in /usr/local/lib/python3.7/dist-packages (from matplotlib->control) (1.4.4)\n",
            "Requirement already satisfied: cycler>=0.10 in /usr/local/lib/python3.7/dist-packages (from matplotlib->control) (0.11.0)\n",
            "Requirement already satisfied: python-dateutil>=2.1 in /usr/local/lib/python3.7/dist-packages (from matplotlib->control) (2.8.2)\n",
            "Requirement already satisfied: typing-extensions in /usr/local/lib/python3.7/dist-packages (from kiwisolver>=1.0.1->matplotlib->control) (4.1.1)\n",
            "Requirement already satisfied: six>=1.5 in /usr/local/lib/python3.7/dist-packages (from python-dateutil>=2.1->matplotlib->control) (1.15.0)\n"
          ]
        }
      ]
    },
    {
      "cell_type": "code",
      "source": [
        "import numpy as np\n",
        "import control as ctl\n",
        "import control.matlab as matlab\n",
        "import matplotlib.pyplot as plt\n",
        "\n",
        "A = np.array([[0,1,0],[0,0,1],[-1,-5,-6]])\n",
        "B = np.array([[0],[0],[1]])\n",
        "#matriks A & B untuk state space\n",
        "\n",
        "print(\"A = \\n\", A)\n",
        "print(\"B = \\n\", B)\n",
        "\n",
        "K = np.array([[4200,653,33]])\n",
        "#ukuran matrix K --> jumlah aksi x jumlah state\n",
        "#x1 --> orde 0, x2 --> orde 1. x3 --> orde 2, u --> orde 3\n",
        "#kolom 1 --> hubungan antara x1 dan u\n",
        "#kolom 2 --> hubungan antara x2 dan u\n",
        "#kolom 3 --> hubungan antara x3 dan u\n",
        "\n",
        "#K\n",
        "#bilangan pertama untuk mengurangi rise time jika nilai semakin besar\n",
        "#bilangan kedua untuk mengurangi undershoot jika nilai semakin besar\n",
        "#bilangan ketiga untuk mengurangi osilasi jika nilai semakin besar\n",
        "\n",
        "print(\"K = \\n\", K)"
      ],
      "metadata": {
        "colab": {
          "base_uri": "https://localhost:8080/"
        },
        "id": "DstecnzjIwTN",
        "outputId": "8615c8d8-d4b6-4f46-cff5-ce11dfa76f30"
      },
      "execution_count": 17,
      "outputs": [
        {
          "output_type": "stream",
          "name": "stdout",
          "text": [
            "A = \n",
            " [[ 0  1  0]\n",
            " [ 0  0  1]\n",
            " [-1 -5 -6]]\n",
            "B = \n",
            " [[0]\n",
            " [0]\n",
            " [1]]\n",
            "K = \n",
            " [[4200  653   33]]\n"
          ]
        }
      ]
    },
    {
      "cell_type": "code",
      "source": [
        "sistem = ctl.ss((A-B*K),np.identity(3),np.identity(3),np.identity(3))\n",
        "print(\"Sistem dalam SS = \\n\",sistem)\n",
        "#state space baru dengan gain K "
      ],
      "metadata": {
        "colab": {
          "base_uri": "https://localhost:8080/"
        },
        "id": "KWt705iNIzOE",
        "outputId": "0ff22544-5d56-47d4-937a-d7ad9f7ca5e3"
      },
      "execution_count": 18,
      "outputs": [
        {
          "output_type": "stream",
          "name": "stdout",
          "text": [
            "Sistem dalam SS = \n",
            " <LinearIOSystem>: sys[4]\n",
            "Inputs (3): ['u[0]', 'u[1]', 'u[2]']\n",
            "Outputs (3): ['y[0]', 'y[1]', 'y[2]']\n",
            "States (3): ['x[0]', 'x[1]', 'x[2]']\n",
            "\n",
            "A = [[ 0.000e+00  1.000e+00  0.000e+00]\n",
            "     [ 0.000e+00  0.000e+00  1.000e+00]\n",
            "     [-4.201e+03 -6.580e+02 -3.900e+01]]\n",
            "\n",
            "B = [[1. 0. 0.]\n",
            "     [0. 1. 0.]\n",
            "     [0. 0. 1.]]\n",
            "\n",
            "C = [[1. 0. 0.]\n",
            "     [0. 1. 0.]\n",
            "     [0. 0. 1.]]\n",
            "\n",
            "D = [[1. 0. 0.]\n",
            "     [0. 1. 0.]\n",
            "     [0. 0. 1.]]\n",
            "\n"
          ]
        }
      ]
    },
    {
      "cell_type": "code",
      "source": [
        "t0 = 0\n",
        "t_end = 5\n",
        "dt = 0.01\n",
        "#pengaturan cuplikan respon\n",
        "\n",
        "t = np.arange(t0,t_end+dt,dt)     # deret waktu 0 - 5 detik dengan kenaikan dt (0,01)\n",
        "inisial = matlab.initial(sistem,t,np.array([1,0,0]));\n",
        "#inisial[0] --> y-out-nya (respon sistem), inisial[1] --> time, inisial[3] --> respon per state\n",
        "#ambil output dari ss sistem untuk diplot\n",
        "x1 = [1,0,0]@np.transpose(inisial[0])\n",
        "x2 = [0,1,0]@np.transpose(inisial[0])\n",
        "x3 = [0,0,1]@np.transpose(inisial[0])"
      ],
      "metadata": {
        "id": "5WT35rM9I4Fn"
      },
      "execution_count": 19,
      "outputs": []
    },
    {
      "cell_type": "code",
      "source": [
        "#plot respon x1\n",
        "fig,ax=plt.subplots()\n",
        "ax.plot(t,x1)\n",
        "ax.set_ylabel('$x_1$',fontsize=12)\n",
        "ax.set_xlabel('$t$',fontsize=12)\n",
        "ax.grid()\n",
        "ax.set_title('Response to Initial Condition')\n",
        "print(\"Respon x1\")\n",
        "print(\"Rise time = \",t[next(i for i in range(20,len(x1)-1) if x1[i]<0.1)]-t[0])\n",
        "print(\"steady state error = \",x1[-1])"
      ],
      "metadata": {
        "colab": {
          "base_uri": "https://localhost:8080/",
          "height": 350
        },
        "id": "71lvcOsuI7f1",
        "outputId": "21bb071d-aa1c-4c74-b289-376566086ba1"
      },
      "execution_count": 20,
      "outputs": [
        {
          "output_type": "stream",
          "name": "stdout",
          "text": [
            "Respon x1\n",
            "Rise time =  0.27\n",
            "steady state error =  -1.1977472149572935e-28\n"
          ]
        },
        {
          "output_type": "display_data",
          "data": {
            "text/plain": [
              "<Figure size 432x288 with 1 Axes>"
            ],
            "image/png": "[encoded data removed]"
          },
          "metadata": {
            "needs_background": "light"
          }
        }
      ]
    },
    {
      "cell_type": "code",
      "source": [
        "#plot respon x2\n",
        "fig,ax=plt.subplots()\n",
        "ax.plot(t,x2)\n",
        "ax.set_ylabel('$x_2$',fontsize=12)\n",
        "ax.set_xlabel('$t$',fontsize=12)\n",
        "ax.grid()\n",
        "print(\"Respon x2\")\n",
        "print(\"Rise time = \",t[next(i for i in range(20,len(x2)-1) if x2[i]>-0.1)]-t[0])\n",
        "print(\"steady state error = \",x2[-1])"
      ],
      "metadata": {
        "colab": {
          "base_uri": "https://localhost:8080/",
          "height": 334
        },
        "id": "lOSUopsWI_Q9",
        "outputId": "3c0aa806-a9ac-4968-8696-530a902c3944"
      },
      "execution_count": 21,
      "outputs": [
        {
          "output_type": "stream",
          "name": "stdout",
          "text": [
            "Respon x2\n",
            "Rise time =  0.4\n",
            "steady state error =  2.9700606386333017e-28\n"
          ]
        },
        {
          "output_type": "display_data",
          "data": {
            "text/plain": [
              "<Figure size 432x288 with 1 Axes>"
            ],
            "image/png": "[encoded data removed]"
          },
          "metadata": {
            "needs_background": "light"
          }
        }
      ]
    },
    {
      "cell_type": "code",
      "source": [
        "#plot respon x3\n",
        "fig,ax=plt.subplots()\n",
        "ax.plot(t,x3)\n",
        "ax.set_ylabel('$x_3$',fontsize=12)\n",
        "ax.set_xlabel('$t$',fontsize=12)\n",
        "ax.grid()\n",
        "print(\"Respon x3\")\n",
        "print(\"Rise time = \",t[next(i for i in range(20,len(x3)-1) if x3[i]<0.1)]-t[0])\n",
        "print(\"steady state error = \",x3[-1])"
      ],
      "metadata": {
        "colab": {
          "base_uri": "https://localhost:8080/",
          "height": 334
        },
        "id": "eItLYERMJBCm",
        "outputId": "79af5d7d-2fea-4e6f-84db-637b1d7b8aa2"
      },
      "execution_count": 22,
      "outputs": [
        {
          "output_type": "stream",
          "name": "stdout",
          "text": [
            "Respon x3\n",
            "Rise time =  0.49\n",
            "steady state error =  3.508074677135348e-26\n"
          ]
        },
        {
          "output_type": "display_data",
          "data": {
            "text/plain": [
              "<Figure size 432x288 with 1 Axes>"
            ],
            "image/png": "[encoded data removed]"
          },
          "metadata": {
            "needs_background": "light"
          }
        }
      ]
    }
  ]
}